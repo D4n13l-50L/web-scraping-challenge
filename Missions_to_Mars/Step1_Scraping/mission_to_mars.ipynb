{
 "cells": [
  {
   "cell_type": "code",
   "execution_count": 4,
   "metadata": {},
   "outputs": [],
   "source": [
    "#Create a Jupyter Notebook file called mission_to_mars.ipynb and use this to complete all of your scraping and analysis tasks. \n",
    "#The following outlines what you need to scrape."
   ]
  },
  {
   "cell_type": "code",
   "execution_count": 2,
   "metadata": {},
   "outputs": [],
   "source": [
    "#Dependencies\n",
    "import time\n",
    "import requests\n",
    "import pymongo\n",
    "import pandas as pd\n",
    "from splinter import Browser\n",
    "from bs4 import BeautifulSoup as bs\n",
    "from selenium import webdriver\n",
    "from webdriver_manager.chrome import ChromeDriverManager"
   ]
  },
  {
   "cell_type": "markdown",
   "metadata": {},
   "source": [
    "## NASA Mars News\n",
    "https://redplanetscience.com/\n",
    "Collect the latest News Title and Paragraph Text.\n"
   ]
  },
  {
   "cell_type": "code",
   "execution_count": 3,
   "metadata": {},
   "outputs": [
    {
     "name": "stderr",
     "output_type": "stream",
     "text": [
      "\n",
      "\n",
      "====== WebDriver manager ======\n",
      "Current google-chrome version is 91.0.4472\n",
      "Get LATEST driver version for 91.0.4472\n",
      "Driver [C:\\Users\\doogi\\.wdm\\drivers\\chromedriver\\win32\\91.0.4472.101\\chromedriver.exe] found in cache\n"
     ]
    }
   ],
   "source": [
    "# define splinter\n",
    "executable_path = {'executable_path': ChromeDriverManager().install()}\n",
    "browser = Browser('chrome', **executable_path, headless=False)\n",
    "\n",
    "#define url \n",
    "url = 'https://redplanetscience.com/'\n",
    "browser.visit(url)\n",
    "\n",
    "#soup setup\n",
    "html = browser.html\n",
    "soup = bs(html, 'html.parser')\n",
    "\n",
    "#define search\n",
    "titles = soup.find_all('div', class_= 'content_title')\n",
    "paragraphs = soup.find_all('div', class_= 'list_date')\n",
    "\n",
    "browser.quit()"
   ]
  },
  {
   "cell_type": "code",
   "execution_count": 7,
   "metadata": {},
   "outputs": [
    {
     "name": "stdout",
     "output_type": "stream",
     "text": [
      "June 12, 2021\n",
      "A New Video Captures the Science of NASA's Perseverance Mars Rover\n",
      "June 12, 2021\n",
      "----------------------------\n",
      "June 11, 2021\n",
      "How NASA's Perseverance Mars Team Adjusted to Work in the Time of Coronavirus \n",
      "June 11, 2021\n",
      "----------------------------\n",
      "June 10, 2021\n",
      "7 Things to Know About the Mars 2020 Perseverance Rover Mission\n",
      "June 10, 2021\n",
      "----------------------------\n",
      "June 9, 2021\n",
      "Air Deliveries Bring NASA's Perseverance Mars Rover Closer to Launch\n",
      "June 9, 2021\n",
      "----------------------------\n",
      "June 8, 2021\n",
      "NASA's Curiosity Rover Finds an Ancient Oasis on Mars\n",
      "June 8, 2021\n",
      "----------------------------\n",
      "June 3, 2021\n",
      "From JPL's Mailroom to Mars and Beyond\n",
      "June 3, 2021\n",
      "----------------------------\n",
      "June 3, 2021\n",
      "NASA's MAVEN Observes Martian Night Sky Pulsing in Ultraviolet Light\n",
      "June 3, 2021\n",
      "----------------------------\n",
      "May 31, 2021\n",
      "NASA Updates Mars 2020 Mission Environmental Review\n",
      "May 31, 2021\n",
      "----------------------------\n",
      "May 31, 2021\n",
      "The Extraordinary Sample-Gathering System of NASA's Perseverance Mars Rover\n",
      "May 31, 2021\n",
      "----------------------------\n",
      "May 30, 2021\n",
      "NASA-JPL Names 'Rolling Stones Rock' on Mars\n",
      "May 30, 2021\n",
      "----------------------------\n",
      "May 20, 2021\n",
      "AI Is Helping Scientists Discover Fresh Craters on Mars\n",
      "May 20, 2021\n",
      "----------------------------\n",
      "May 20, 2021\n",
      "NASA's Perseverance Rover Bringing 3D-Printed Metal Parts to Mars\n",
      "May 20, 2021\n",
      "----------------------------\n",
      "May 16, 2021\n",
      "Naming a NASA Mars Rover Can Change Your Life\n",
      "May 16, 2021\n",
      "----------------------------\n",
      "May 14, 2021\n",
      "NASA's Mars 2020 Rover Goes Coast-to-Coast to Prep for Launch\n",
      "May 14, 2021\n",
      "----------------------------\n",
      "May 11, 2021\n",
      "NASA's MAVEN Maps Winds in the Martian Upper Atmosphere that Mirror the Terrain Below and Gives Clues to Martian Climate\n",
      "May 11, 2021\n",
      "----------------------------\n"
     ]
    }
   ],
   "source": [
    "#store data\n",
    "\n",
    "articles = []\n",
    "for i in range(0, len(dates)):\n",
    "    print(dates[i].text)\n",
    "    print(titles[i].text)\n",
    "    print(paragraphs[i].text)\n",
    "    print('----------------------------')\n",
    "    \n",
    "    articles.append({\n",
    "        'date': dates[i],\n",
    "        'title': titles[i],\n",
    "        'paragraph': paragraphs[i]\n",
    "    })"
   ]
  },
  {
   "cell_type": "markdown",
   "metadata": {},
   "source": [
    "## PL Mars Space Images - Featured Image\n",
    "https://spaceimages-mars.com/\n",
    "find the image url for the current Featured Mars Image and assign the url string to a variable called featured_image_url.    "
   ]
  },
  {
   "cell_type": "code",
   "execution_count": 9,
   "metadata": {},
   "outputs": [
    {
     "name": "stderr",
     "output_type": "stream",
     "text": [
      "\n",
      "\n",
      "====== WebDriver manager ======\n",
      "Current google-chrome version is 91.0.4472\n",
      "Get LATEST driver version for 91.0.4472\n",
      "Driver [C:\\Users\\doogi\\.wdm\\drivers\\chromedriver\\win32\\91.0.4472.101\\chromedriver.exe] found in cache\n"
     ]
    }
   ],
   "source": [
    "# Setup splinter\n",
    "executable_path = {'executable_path': ChromeDriverManager().install()}\n",
    "browser = Browser('chrome', **executable_path, headless=False)\n",
    "\n",
    "#url to scrap\n",
    "url = 'https://spaceimages-mars.com/'\n",
    "browser.visit(url)\n",
    "\n",
    "#Navigate\n",
    "browser.links.find_by_partial_text('FULL IMAGE').click()\n",
    "\n",
    "#create soup and scrap\n",
    "html = browser.html\n",
    "soup = bs(html, 'html.parser')\n",
    "\n",
    "featured_image_url = soup.find_all('img', class_= 'fancybox-image')\n",
    "featured_image_url = 'https://spaceimages-mars.com/'+featured_image_url[0]['src']\n",
    "\n",
    "#End browser session\n",
    "browser.quit()"
   ]
  },
  {
   "cell_type": "code",
   "execution_count": 10,
   "metadata": {},
   "outputs": [
    {
     "name": "stdout",
     "output_type": "stream",
     "text": [
      "https://spaceimages-mars.com/image/featured/mars2.jpg\n"
     ]
    }
   ],
   "source": [
    "#print results\n",
    "print(featured_image_url)"
   ]
  },
  {
   "cell_type": "markdown",
   "metadata": {},
   "source": [
    "## Mars Facts\n",
    "https://galaxyfacts-mars.com/\n",
    "Scrape the table containing facts about the planet including Diameter, Mass, etc and convert the data to a HTML table string."
   ]
  },
  {
   "cell_type": "code",
   "execution_count": 11,
   "metadata": {},
   "outputs": [
    {
     "data": {
      "text/html": [
       "<div>\n",
       "<style scoped>\n",
       "    .dataframe tbody tr th:only-of-type {\n",
       "        vertical-align: middle;\n",
       "    }\n",
       "\n",
       "    .dataframe tbody tr th {\n",
       "        vertical-align: top;\n",
       "    }\n",
       "\n",
       "    .dataframe thead th {\n",
       "        text-align: right;\n",
       "    }\n",
       "</style>\n",
       "<table border=\"1\" class=\"dataframe\">\n",
       "  <thead>\n",
       "    <tr style=\"text-align: right;\">\n",
       "      <th></th>\n",
       "      <th>0</th>\n",
       "      <th>1</th>\n",
       "      <th>2</th>\n",
       "    </tr>\n",
       "  </thead>\n",
       "  <tbody>\n",
       "    <tr>\n",
       "      <th>0</th>\n",
       "      <td>Mars - Earth Comparison</td>\n",
       "      <td>Mars</td>\n",
       "      <td>Earth</td>\n",
       "    </tr>\n",
       "    <tr>\n",
       "      <th>1</th>\n",
       "      <td>Diameter:</td>\n",
       "      <td>6,779 km</td>\n",
       "      <td>12,742 km</td>\n",
       "    </tr>\n",
       "    <tr>\n",
       "      <th>2</th>\n",
       "      <td>Mass:</td>\n",
       "      <td>6.39 × 10^23 kg</td>\n",
       "      <td>5.97 × 10^24 kg</td>\n",
       "    </tr>\n",
       "    <tr>\n",
       "      <th>3</th>\n",
       "      <td>Moons:</td>\n",
       "      <td>2</td>\n",
       "      <td>1</td>\n",
       "    </tr>\n",
       "    <tr>\n",
       "      <th>4</th>\n",
       "      <td>Distance from Sun:</td>\n",
       "      <td>227,943,824 km</td>\n",
       "      <td>149,598,262 km</td>\n",
       "    </tr>\n",
       "  </tbody>\n",
       "</table>\n",
       "</div>"
      ],
      "text/plain": [
       "                         0                1                2\n",
       "0  Mars - Earth Comparison             Mars            Earth\n",
       "1                Diameter:         6,779 km        12,742 km\n",
       "2                    Mass:  6.39 × 10^23 kg  5.97 × 10^24 kg\n",
       "3                   Moons:                2                1\n",
       "4       Distance from Sun:   227,943,824 km   149,598,262 km"
      ]
     },
     "execution_count": 11,
     "metadata": {},
     "output_type": "execute_result"
    }
   ],
   "source": [
    "url = 'https://galaxyfacts-mars.com/'\n",
    "tables = pd.read_html(url)\n",
    "tables[0].head()"
   ]
  },
  {
   "cell_type": "markdown",
   "metadata": {},
   "source": [
    "## Mars Hemispheres\n",
    "https://marshemispheres.com/\n",
    "Obtain high resolution images for each of Mar's hemispheres\n",
    "Save both the image url string for the full resolution hemisphere image, and the Hemisphere title containing the hemisphere name. Use a Python dictionary to store the data using the keys img_url and title.\n"
   ]
  },
  {
   "cell_type": "code",
   "execution_count": 12,
   "metadata": {},
   "outputs": [
    {
     "name": "stderr",
     "output_type": "stream",
     "text": [
      "\n",
      "\n",
      "====== WebDriver manager ======\n",
      "Current google-chrome version is 91.0.4472\n",
      "Get LATEST driver version for 91.0.4472\n",
      "Driver [C:\\Users\\doogi\\.wdm\\drivers\\chromedriver\\win32\\91.0.4472.101\\chromedriver.exe] found in cache\n"
     ]
    }
   ],
   "source": [
    "\n",
    "# Setup splinter\n",
    "executable_path = {'executable_path': ChromeDriverManager().install()}\n",
    "browser = Browser('chrome', **executable_path, headless=False)\n",
    "\n",
    "#url to scrap\n",
    "url = 'https://marshemispheres.com/'\n",
    "browser.visit(url)\n",
    "\n",
    "hemisphere_image_urls = []\n",
    "\n",
    "for i in range(0, 4):\n",
    "    \n",
    "    links_found = browser.links.find_by_partial_text('Hemisphere Enhanced')\n",
    "    links_found[i].click()\n",
    "    html = browser.html\n",
    "    soup = bs(html, 'html.parser')\n",
    "    \n",
    "    title = soup.find('h2', class_= 'title').text\n",
    "    \n",
    "    img_url = soup.find('div', class_= 'downloads')\n",
    "    img_url = img_url.find('a', target= '_blank')['href']\n",
    "    img_url = 'https://marshemispheres.com/' + img_url\n",
    "    \n",
    "    hemisphere_image_urls.append({\n",
    "        'Title': title,\n",
    "        'Image URL': img_url\n",
    "    })\n",
    "    \n",
    "    browser.links.find_by_partial_text('Back').click()\n",
    "\n",
    "#End browser session\n",
    "browser.quit()"
   ]
  }
 ],
 "metadata": {
  "kernelspec": {
   "display_name": "Python 3",
   "language": "python",
   "name": "python3"
  },
  "language_info": {
   "codemirror_mode": {
    "name": "ipython",
    "version": 3
   },
   "file_extension": ".py",
   "mimetype": "text/x-python",
   "name": "python",
   "nbconvert_exporter": "python",
   "pygments_lexer": "ipython3",
   "version": "3.8.5"
  }
 },
 "nbformat": 4,
 "nbformat_minor": 2
}
